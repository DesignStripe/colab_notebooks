{
  "nbformat": 4,
  "nbformat_minor": 0,
  "metadata": {
    "colab": {
      "name": "Copie de Copie de Snippets: Accessing files",
      "provenance": [],
      "collapsed_sections": []
    },
    "kernelspec": {
      "display_name": "Python 3",
      "name": "python3"
    }
  },
  "cells": [
    {
      "cell_type": "markdown",
      "metadata": {
        "id": "l0XHG5qVLxh5"
      },
      "source": [
        "# Fill a color palette dynamically using Markov Chains\n",
        "This notebook by designstripe allows anyone to upload a color palette database (in RGB format) to build a Markov model able to generate colors based on a given color. You can generate a palette of any size from a single or a handful of colors, taking advantage of this behavior."
      ]
    },
    {
      "cell_type": "markdown",
      "metadata": {
        "id": "j5QF2YZ-0vMf"
      },
      "source": [
        "## Imports"
      ]
    },
    {
      "cell_type": "code",
      "metadata": {
        "id": "x9owYZWmxm1y"
      },
      "source": [
        "# Imports\n",
        "import numpy as np\n",
        "import random\n",
        "import json\n",
        "import difflib\n",
        "from PIL import ImageColor\n",
        "import matplotlib.pyplot as plt"
      ],
      "execution_count": 1,
      "outputs": []
    },
    {
      "cell_type": "code",
      "metadata": {
        "id": "QZ76d_IQ0pna"
      },
      "source": [
        "def rgb2hex(rgb) -> str:\n",
        "    \"\"\"\n",
        "    :return: returns hex code with formatting #E4B3D1\n",
        "    \"\"\"\n",
        "    return \"#{:02x}{:02x}{:02x}\".format(rgb[0], rgb[1], rgb[2]).upper()"
      ],
      "execution_count": null,
      "outputs": []
    },
    {
      "cell_type": "code",
      "metadata": {
        "id": "Zg2cF_2-gI67",
        "colab": {
          "base_uri": "https://localhost:8080/"
        },
        "outputId": "8db9b3bd-91db-471b-85c7-98539d1f1a60"
      },
      "source": [
        "# Fetch our color palette database demo\n",
        "!curl --remote-name \\\n",
        "     -H 'Accept: application/vnd.github.v3.raw' \\\n",
        "     --location https://raw.githubusercontent.com/DesignStripe/colab_notebooks/main/small_palette_database.json"
      ],
      "execution_count": 15,
      "outputs": [
        {
          "output_type": "stream",
          "name": "stdout",
          "text": [
            "  % Total    % Received % Xferd  Average Speed   Time    Time     Time  Current\n",
            "                                 Dload  Upload   Total   Spent    Left  Speed\n",
            "\r  0     0    0     0    0     0      0      0 --:--:-- --:--:-- --:--:--     0\r100 56453  100 56453    0     0   260k      0 --:--:-- --:--:-- --:--:--  261k\n"
          ]
        }
      ]
    },
    {
      "cell_type": "markdown",
      "metadata": {
        "id": "kxHMJiIf01yS"
      },
      "source": [
        "## Dataset pre-processing"
      ]
    },
    {
      "cell_type": "code",
      "metadata": {
        "id": "k4Oq7Xh_a_VU"
      },
      "source": [
        "# Open the json file and read all palettes.\n",
        "hex_palettes = []\n",
        "with open(\"small_palette_database.json\") as f:\n",
        "  rgb_palettes = json.load(f)"
      ],
      "execution_count": 25,
      "outputs": []
    },
    {
      "cell_type": "code",
      "metadata": {
        "id": "e6fN-4El1Bny"
      },
      "source": [
        "# Transfer rgb to hex\n",
        "for palette in rgb_palettes:\n",
        "  hex_palettes.append([rgb2hex(color) for color in palette])"
      ],
      "execution_count": null,
      "outputs": []
    },
    {
      "cell_type": "code",
      "metadata": {
        "colab": {
          "base_uri": "https://localhost:8080/"
        },
        "id": "3UhYRvVtYo5e",
        "outputId": "11df29eb-05a6-450d-a8e1-627f82715ddf"
      },
      "source": [
        "# Transform to fit the Markov model input style\n",
        "def clean_txt(txt):\n",
        "  cleaned_txt = []\n",
        "  for line in txt:\n",
        "    words = [word for word in line]\n",
        "    cleaned_txt+=words\n",
        "  return cleaned_txt\n",
        "\n",
        "cleaned_dataset = clean_txt(hex_palettes)\n",
        "print(\"Number of colors in your dataset:\", len(cleaned_dataset))\n",
        "print(\"One color looks like this:\",cleaned_dataset[10])"
      ],
      "execution_count": 28,
      "outputs": [
        {
          "output_type": "stream",
          "name": "stdout",
          "text": [
            "Number of colors in your dataset: 3465\n",
            "One color looks like this: #0099E6\n"
          ]
        }
      ]
    },
    {
      "cell_type": "markdown",
      "metadata": {
        "id": "cIYxRAo32OdS"
      },
      "source": [
        "### Useful functions for the model"
      ]
    },
    {
      "cell_type": "code",
      "metadata": {
        "id": "PKBXrLRMex2_"
      },
      "source": [
        "def make_markov_model(cleaned_dataset, n_gram=1):\n",
        "  \"\"\"\n",
        "  :return: Return the markov model (dictionnary) built from the cleaned dataset\n",
        "  \"\"\"\n",
        "  markov_model = {}\n",
        "  for i in range(len(cleaned_dataset)-n_gram):\n",
        "    curr_state, next_state = \"\", \"\"\n",
        "    curr_state += cleaned_dataset[i] + \" \"\n",
        "    next_state += cleaned_dataset[i+n_gram] + \" \"\n",
        "    curr_state = curr_state[:-1]\n",
        "    next_state = next_state[:-1]\n",
        "    if curr_state not in markov_model:\n",
        "      markov_model[curr_state] = {}\n",
        "      markov_model[curr_state][next_state] = 1\n",
        "    else:\n",
        "      if next_state in markov_model[curr_state]:\n",
        "        markov_model[curr_state][next_state] += 1\n",
        "      else:\n",
        "        markov_model[curr_state][next_state] = 1\n",
        "  \n",
        "  # calculating transition probabilities\n",
        "  for curr_state, transition in markov_model.items():\n",
        "    total = sum(transition.values())\n",
        "    for state, count in transition.items():\n",
        "      markov_model[curr_state][state] = count/total\n",
        "      \n",
        "  return markov_model\n",
        "\n",
        "def display_palette(palette_to_display_hex, palette_length, title):\n",
        "  \"\"\"\n",
        "  Display a given palette in hex codes with the appripriate title\n",
        "  \"\"\"\n",
        "  palette_to_display_rgb = []\n",
        "  for i in range(palette_length):\n",
        "    if (palette_to_display_hex[i] == ''):\n",
        "      palette_to_display_rgb.append((0,0,0))\n",
        "    else:\n",
        "      palette_to_display_rgb.append(ImageColor.getcolor(palette_to_display_hex[i], \"RGB\"))\n",
        "\n",
        "  # Palette to generate\n",
        "  palette_to_display_rgb = np.array(palette_to_display_rgb)\n",
        "  plt.figure(figsize=(12,12))\n",
        "  plt.imshow(palette_to_display_rgb[np.concatenate([[i] * 100 for i in range(len(palette_to_display_rgb))]).reshape((-1,10)).T])\n",
        "  plt.title(title)\n",
        "  plt.grid()\n",
        "  plt.axis('off')\n",
        "  plt.show()"
      ],
      "execution_count": 29,
      "outputs": []
    },
    {
      "cell_type": "markdown",
      "metadata": {
        "id": "ZMa2J55t5sW0"
      },
      "source": [
        "### Build the model"
      ]
    },
    {
      "cell_type": "code",
      "metadata": {
        "id": "4OMdQxFrex5t",
        "colab": {
          "base_uri": "https://localhost:8080/"
        },
        "outputId": "b2dd40a4-3109-4c11-bcec-1a313b88a5e0"
      },
      "source": [
        "# Build the model with our cleaned dataset \n",
        "markov_model = make_markov_model(cleaned_dataset)\n",
        "print(\"Number of possible states (color transitions) in our model:\", len(markov_model.keys()))"
      ],
      "execution_count": 31,
      "outputs": [
        {
          "output_type": "stream",
          "name": "stdout",
          "text": [
            "Number of possible states (color transitions) in our model: 3300\n"
          ]
        }
      ]
    },
    {
      "cell_type": "markdown",
      "metadata": {
        "id": "XdLTyA8w25w9"
      },
      "source": [
        "## Inference time!\n",
        "### Let's generate a handful of new palettes from one color!\n",
        "\n",
        "Let's say you want a palette with the image hex code: '#51386E', here's what you would do:"
      ]
    },
    {
      "cell_type": "markdown",
      "metadata": {
        "id": "Qm9LgXOs5lbK"
      },
      "source": [
        "### Util function to generate a palette from an incomplete palette"
      ]
    },
    {
      "cell_type": "code",
      "metadata": {
        "id": "Iz3hkK0I3k9T"
      },
      "source": [
        "def fill_my_palette(palette_to_fill_hex):\n",
        "  \"\"\"\n",
        "  This function fills a palette and returns the new palette\n",
        "  return: palette generated from the input palette in hex codes\n",
        "  \"\"\"\n",
        "  # Calculate the number of colors to fill and prepare your variables\n",
        "  palette_generated_hex = palette_to_fill_hex.copy()\n",
        "  nb_colors_to_fill = np.where(np.array(palette_to_fill_hex) == '')[0].shape[0]\n",
        "  palette_length = len(palette_to_fill_hex)\n",
        "\n",
        "  # Fill in the missing colors\n",
        "  for i in range(nb_colors_to_fill):\n",
        "    i = i + (palette_length-nb_colors_to_fill)\n",
        "\n",
        "    # Find the most probable next color with some variations\n",
        "    top_3_closest_colors = difflib.get_close_matches(palette_generated_hex[i-1],markov_model.keys())\n",
        "    next_color = list(markov_model[top_3_closest_colors[random.randint(0,2)]].keys())[0]\n",
        "    palette_generated_hex[i] = next_color\n",
        "\n",
        "  return palette_generated_hex, palette_length"
      ],
      "execution_count": 33,
      "outputs": []
    },
    {
      "cell_type": "markdown",
      "metadata": {
        "id": "R4vg6XrA5vjQ"
      },
      "source": [
        "### Generate our palettes!"
      ]
    },
    {
      "cell_type": "code",
      "metadata": {
        "colab": {
          "base_uri": "https://localhost:8080/",
          "height": 1000
        },
        "id": "TRA8bUiQYZU7",
        "outputId": "4bf687ed-3da4-4446-eaad-abbfa5ac6af0"
      },
      "source": [
        "palette_to_fill_hex = ['#51386E','','','','']\n",
        "\n",
        "# Generate and display 5 possible palettes\n",
        "for i in range(5):\n",
        "  # Generate our palette\n",
        "  palette_generated_hex, palette_length = fill_my_palette(palette_to_fill_hex)\n",
        "\n",
        "  # Display our initial and generated palettes\n",
        "  print(\"\\nGeneration #%i:\" %(i+1))\n",
        "  display_palette(palette_to_fill_hex, palette_length, \"Palette to generate\")\n",
        "  display_palette(palette_generated_hex, palette_length, \"Palette generated\")"
      ],
      "execution_count": 38,
      "outputs": [
        {
          "output_type": "stream",
          "name": "stdout",
          "text": [
            "\n",
            "Generation #1:\n"
          ]
        },
        {
          "output_type": "display_data",
          "data": {
            "image/png": "[encoded data removed]",
            "text/plain": [
              "<Figure size 864x864 with 1 Axes>"
            ]
          },
          "metadata": {
            "needs_background": "light"
          }
        },
        {
          "output_type": "display_data",
          "data": {
            "image/png": "[encoded data removed]",
            "text/plain": [
              "<Figure size 864x864 with 1 Axes>"
            ]
          },
          "metadata": {
            "needs_background": "light"
          }
        },
        {
          "output_type": "stream",
          "name": "stdout",
          "text": [
            "\n",
            "Generation #2:\n"
          ]
        },
        {
          "output_type": "display_data",
          "data": {
            "image/png": "[encoded data removed]",
            "text/plain": [
              "<Figure size 864x864 with 1 Axes>"
            ]
          },
          "metadata": {
            "needs_background": "light"
          }
        },
        {
          "output_type": "display_data",
          "data": {
            "image/png": "[encoded data removed]",
            "text/plain": [
              "<Figure size 864x864 with 1 Axes>"
            ]
          },
          "metadata": {
            "needs_background": "light"
          }
        },
        {
          "output_type": "stream",
          "name": "stdout",
          "text": [
            "\n",
            "Generation #3:\n"
          ]
        },
        {
          "output_type": "display_data",
          "data": {
            "image/png": "[encoded data removed]",
            "text/plain": [
              "<Figure size 864x864 with 1 Axes>"
            ]
          },
          "metadata": {
            "needs_background": "light"
          }
        },
        {
          "output_type": "display_data",
          "data": {
            "image/png": "[encoded data removed]",
            "text/plain": [
              "<Figure size 864x864 with 1 Axes>"
            ]
          },
          "metadata": {
            "needs_background": "light"
          }
        },
        {
          "output_type": "stream",
          "name": "stdout",
          "text": [
            "\n",
            "Generation #4:\n"
          ]
        },
        {
          "output_type": "display_data",
          "data": {
            "image/png": "[encoded data removed]",
            "text/plain": [
              "<Figure size 864x864 with 1 Axes>"
            ]
          },
          "metadata": {
            "needs_background": "light"
          }
        },
        {
          "output_type": "display_data",
          "data": {
            "image/png": "[encoded data removed]",
            "text/plain": [
              "<Figure size 864x864 with 1 Axes>"
            ]
          },
          "metadata": {
            "needs_background": "light"
          }
        },
        {
          "output_type": "stream",
          "name": "stdout",
          "text": [
            "\n",
            "Generation #5:\n"
          ]
        },
        {
          "output_type": "display_data",
          "data": {
            "image/png": "[encoded data removed]",
            "text/plain": [
              "<Figure size 864x864 with 1 Axes>"
            ]
          },
          "metadata": {
            "needs_background": "light"
          }
        },
        {
          "output_type": "display_data",
          "data": {
            "image/png": "[encoded data removed]",
            "text/plain": [
              "<Figure size 864x864 with 1 Axes>"
            ]
          },
          "metadata": {
            "needs_background": "light"
          }
        }
      ]
    },
    {
      "cell_type": "markdown",
      "metadata": {
        "id": "C8dzyEta56vF"
      },
      "source": [
        "## Play with the code!\n",
        "\n",
        "I hope you enjoyed this quick Markov chain model (or dictionary search in other words), allowing you to generate a complete palette based on the previous color. \n",
        "\n",
        "Feel free to change the code and improve it, use your own dataset, or even use another model to compare the results! Play with it and have fun. Let us know what you create at louis@designstripe.com. We would love to exchange with you!"
      ]
    },
    {
      "cell_type": "markdown",
      "metadata": {
        "id": "SxT-UH6Y665S"
      },
      "source": [
        "Try another model or technique with our demo dataset using `rgb_palettes` or `hex_palettes` we created earlier!"
      ]
    },
    {
      "cell_type": "code",
      "metadata": {
        "id": "aUQFQELMThrP"
      },
      "source": [
        "# Start coding now:\n",
        "\n",
        "\n",
        "\n",
        "\n"
      ],
      "execution_count": 41,
      "outputs": []
    },
    {
      "cell_type": "code",
      "metadata": {
        "id": "wLPv4tkK6mAJ"
      },
      "source": [
        ""
      ],
      "execution_count": null,
      "outputs": []
    },
    {
      "cell_type": "code",
      "metadata": {
        "id": "7oZKKfpQ69K_"
      },
      "source": [
        ""
      ],
      "execution_count": null,
      "outputs": []
    },
    {
      "cell_type": "code",
      "metadata": {
        "id": "efiwSUFs69Py"
      },
      "source": [
        ""
      ],
      "execution_count": null,
      "outputs": []
    }
  ]
}