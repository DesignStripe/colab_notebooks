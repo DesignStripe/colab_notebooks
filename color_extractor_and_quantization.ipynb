{
  "nbformat": 4,
  "nbformat_minor": 0,
  "metadata": {
    "colab": {
      "name": "color_extractor_and_quantization.ipynb",
      "provenance": [],
      "collapsed_sections": []
    },
    "kernelspec": {
      "display_name": "Python 3",
      "name": "python3"
    }
  },
  "cells": [
    {
      "cell_type": "markdown",
      "metadata": {
        "id": "BaCkyg5CV5jF"
      },
      "source": [
        "# Color Extractor\n",
        "## This is a Google Colab Notebook showcasing how to efficiently and easily extract the colors of an image using python. We also show how to perform color quantization using OpenCV.\n"
      ]
    },
    {
      "cell_type": "markdown",
      "metadata": {
        "id": "iItVjRV_Owg7"
      },
      "source": [
        "## Step 1: Imports"
      ]
    },
    {
      "cell_type": "code",
      "metadata": {
        "id": "BKv86ELHYtxk"
      },
      "source": [
        "# Imports\n",
        "from google.colab import files\n",
        "import cv2 as cv\n",
        "from PIL import Image\n",
        "import time\n",
        "import numpy as np\n",
        "import matplotlib.pyplot as plt"
      ],
      "execution_count": null,
      "outputs": []
    },
    {
      "cell_type": "markdown",
      "metadata": {
        "id": "dLfPTymQOs_R"
      },
      "source": [
        "## Step 2: Upload your image(s)"
      ]
    },
    {
      "cell_type": "code",
      "metadata": {
        "id": "vz-jH8T_Uk2c"
      },
      "source": [
        "uploaded = files.upload()\n",
        "\n",
        "for fn in uploaded.keys():\n",
        "  print('User uploaded file \"{name}\" with length {length} bytes'.format(\n",
        "      name=fn, length=len(uploaded[fn])))"
      ],
      "execution_count": null,
      "outputs": []
    },
    {
      "cell_type": "markdown",
      "metadata": {
        "id": "8gZxOhkbO7U2"
      },
      "source": [
        "## Step 3: Extract the n most present colors in the image"
      ]
    },
    {
      "cell_type": "code",
      "metadata": {
        "id": "j7DWdizAYemN"
      },
      "source": [
        "n_colors = 5\n",
        "img_max_dim = 256\n",
        "final_palettes = []\n",
        "quanticized_images = []\n",
        "resized_imgs = []\n",
        "accuracy_aimed = 1.0  # Stop iterating if the specified accuracy is reached.\n",
        "max_iter = 45  # Stop the algorithm after the specified number of iterations.\n",
        "\n",
        "for fn in uploaded.keys():\n",
        "  start_time = time.time()\n",
        "  img = Image.open(fn).convert('RGB')\n",
        "\n",
        "  # Resize image for computation while keeping aspect ratio\n",
        "  resized_width = int((img_max_dim * min(img.size)) / max(img.size))\n",
        "  resized_img = img.copy()\n",
        "  resized_img.thumbnail((img_max_dim, img_max_dim), Image.ANTIALIAS)\n",
        "\n",
        "  # Reshape for k-means\n",
        "  resized_img = np.array(resized_img, np.float32)\n",
        "\n",
        "  # Extract the n most present colors\n",
        "  # The algorithm stops iterating when any of the above conditions are met.\n",
        "  criteria = (cv.TERM_CRITERIA_EPS + cv.TERM_CRITERIA_MAX_ITER, max_iter, \n",
        "              accuracy_aimed)\n",
        "  \n",
        "  # KMEANS_PP_CENTERS: initializing centers that are far away from one another, \n",
        "  # helps to reduce the randomness in the results.\n",
        "  _, labels, centers = cv.kmeans(resized_img.reshape(-1,3), n_colors, None, \n",
        "                                 criteria, 10, flags=cv.KMEANS_PP_CENTERS)\n",
        "  \n",
        "  # Find the biggest centers in descending order\n",
        "  unique, counts = np.unique(labels, return_counts=True)\n",
        "  labels_ordered = unique[counts.argsort()[::-1]]\n",
        "\n",
        "  # Reorder colors by presence in the image - in descending order\n",
        "  ordered_palette = centers[labels_ordered].astype(int)\n",
        "  end_time = time.time() - start_time\n",
        "\n",
        "  # Save color palette and elements for future visualizations\n",
        "  final_palettes.append(ordered_palette)\n",
        "\n",
        "  # Quanticize the image by reconstructing it with only the extracted colors\n",
        "  quanticized_images.append(np.uint8(centers)[labels.flatten()]\n",
        "                            .reshape((resized_img.shape)))\n",
        "  resized_imgs.append(resized_img)\n",
        "\n",
        "  # Display the initial image and extracted palette\n",
        "  plt.figure(figsize=(12,12))\n",
        "  plt.title(\"Initial image\")\n",
        "  plt.imshow(img)\n",
        "  plt.grid()\n",
        "  plt.axis('off')\n",
        "  plt.show()\n",
        "\n",
        "  plt.figure(figsize=(12,12))\n",
        "  plt.imshow(ordered_palette[:n_colors][np.concatenate([[i] * 100 for i in range(len(ordered_palette[:n_colors]))]).reshape((-1,10)).T])\n",
        "  plt.title(f\"Final Palette with {n_colors} colors. Generated in %.2f seconds.\" % end_time)\n",
        "  plt.grid()\n",
        "  plt.axis('off')\n",
        "  plt.show()\n",
        "\n",
        "  print(\"\\n\")"
      ],
      "execution_count": null,
      "outputs": []
    },
    {
      "cell_type": "markdown",
      "metadata": {
        "id": "vDrhi0x4z0Lc"
      },
      "source": [
        "## Color quantization\n",
        "\n",
        "Having this new palette, you can play with the original image to reconstruct it using only these colors, which is called color quantization as seen in the article https://en.wikipedia.org/wiki/Color_quantization.\n",
        "\n",
        "I invite you to play with the algorithm using different color combinations to better understand how it works!"
      ]
    },
    {
      "cell_type": "code",
      "metadata": {
        "id": "4W6XDngVzza0"
      },
      "source": [
        "# Plot the quanticized images\n",
        "for index, quanticized_image in enumerate(quanticized_images):\n",
        "  plt.figure(figsize=(12,12))\n",
        "  plt.subplot(1,2,1)\n",
        "  plt.title(\"Here is what the original image looks like\")\n",
        "  plt.grid()\n",
        "  plt.axis('off')\n",
        "  plt.imshow(resized_imgs[index]/255.0)\n",
        "  plt.subplot(1,2,2)\n",
        "  plt.title(f\"Here is what the quanticized image looks like with {n_colors} colors!\")\n",
        "  plt.grid()\n",
        "  plt.axis('off')\n",
        "  plt.imshow(quanticized_image)\n",
        "  print(\"\\n\")"
      ],
      "execution_count": null,
      "outputs": []
    },
    {
      "cell_type": "markdown",
      "metadata": {
        "id": "KMmcczE-TP2v"
      },
      "source": [
        "## Next step: Build a better palette!\n",
        "Use color harmony expert knowledge to understand the relation of the color in the extracted colors and build the best looking palette possible out of this image!\n",
        "\n",
        "Here are a few tips:\n",
        "- Try changing the color space! You can look at colors in different ways such as RGB, HSV, LAB, etc. HSV is a great space to better understand color relations.\n",
        "- There is no general consensus on how and why a palette looks beautiful. Your best shot is to take a look at basic color harmonies and build a code that will try to follow them.\n",
        "- Base yourself on the current trends, look at color palettes websites and try to orient your results towards them!\n",
        "- It doesn't have to be perfect! Have fun, play with it, and build something great! Colors are a subjective thing. Some people will love them while some will hate them. You just want to allow customization to your tools as you can't force them to like a color schema."
      ]
    },
    {
      "cell_type": "markdown",
      "metadata": {
        "id": "osPBXbTBUdQa"
      },
      "source": [
        "### This is where you play with your results!\n",
        "Take your palettes in the `final_palettes` list and build a code to make them look better!\n",
        "\n",
        "*Send us your code updates and results at louis@designstripe.com. We would love to see what you achieve and give our feedback!*\n"
      ]
    },
    {
      "cell_type": "code",
      "metadata": {
        "id": "94DG1rL4Uixb"
      },
      "source": [
        "# Add your code here and start testing right away!\n"
      ],
      "execution_count": null,
      "outputs": []
    },
    {
      "cell_type": "code",
      "metadata": {
        "id": "pGEvEIjO6Vrd"
      },
      "source": [
        ""
      ],
      "execution_count": null,
      "outputs": []
    }
  ]
}